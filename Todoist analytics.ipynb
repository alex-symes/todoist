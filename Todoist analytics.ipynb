{
 "cells": [
  {
   "cell_type": "markdown",
   "metadata": {},
   "source": [
    "Requires the todoist-python library. This notebook also uses [calmap](https://pythonhosted.org/calmap/), which creates 'github' like calendar images."
   ]
  },
  {
   "cell_type": "code",
   "execution_count": null,
   "metadata": {},
   "outputs": [],
   "source": [
    "#!pip install todoist-python\n",
    "#!pip install calmap"
   ]
  },
  {
   "cell_type": "markdown",
   "metadata": {},
   "source": [
    "# Todoist analysis \n",
    "\n",
    "Todoist is a webapp todo list. The following notebook provides some analysis of a private Todoist subscription using their api. You will need to add your API key to the 'token' variable in the next section."
   ]
  },
  {
   "cell_type": "code",
   "execution_count": null,
   "metadata": {},
   "outputs": [],
   "source": [
    "from todoist.api import TodoistAPI\n",
    "import pandas as pd \n",
    "from IPython.core.display import display, HTML\n",
    "import matplotlib.pyplot as plt\n",
    "import datetime as dt\n",
    "import numpy as np\n",
    "import calmap\n",
    "\n",
    "token = 'ADD TODOIST TOKEN HERE'\n",
    "\n",
    "api = TodoistAPI(token)\n",
    "api.sync()"
   ]
  },
  {
   "cell_type": "markdown",
   "metadata": {},
   "source": [
    "## Raw Data\n",
    "\n",
    "Data is pulled into three dataframes - one of which is used later in this notebook.\n",
    "\n",
    "df_projects: all existing projects\n",
    "df_tasks: all current tasks\n",
    "df_activities: all activities (current and historic)\n",
    "\n",
    "\"Activities\" are the key to the analysis - this shows when items have been added, updated, completed (it also tracks undo), and deleted.\n",
    "\n",
    "### Projects.\n",
    "First, let's pull in the projects"
   ]
  },
  {
   "cell_type": "code",
   "execution_count": 3,
   "metadata": {},
   "outputs": [],
   "source": [
    "\n",
    "projects = [project.data for project in api.state['projects']] \n",
    "df_projects = pd.DataFrame(projects)\n",
    "\n",
    "df_projects.head()"
   ]
  },
  {
   "cell_type": "markdown",
   "metadata": {},
   "source": [
    "### Existing tasks\n",
    "\n",
    "Then let's pull in existing tasks.\n",
    "\n",
    "This dataframe is not used later in this notebook, but is provided for an example of what data exists. "
   ]
  },
  {
   "cell_type": "code",
   "execution_count": null,
   "metadata": {},
   "outputs": [],
   "source": [
    "# Same as above\n",
    "tasks = [task.data for task in api.state['items']]\n",
    "\n",
    "df_tasks = pd.DataFrame(tasks)\n",
    "\n",
    "df_tasks.head()"
   ]
  },
  {
   "cell_type": "code",
   "execution_count": null,
   "metadata": {},
   "outputs": [],
   "source": [
    "df_tasks['due_date'] = ''\n",
    "df_tasks['recurring'] = ''\n",
    "\n",
    "# Convert Date strings (in UTC by default) to datetime and format it \n",
    "df_tasks['date_added'] = pd.to_datetime(\n",
    "    (pd.to_datetime(df_tasks['date_added'], utc=True)\n",
    "     .dt.tz_convert('US/Eastern') # my current timezone\n",
    "     .dt.strftime(\"%Y-%m-%d %H:%M:%S\"))) # easier to handle format\n",
    "\n",
    "df_tasks['due'].fillna(0, inplace=True)\n",
    "\n",
    "\n",
    "for index, row in df_tasks.iterrows():\n",
    "    a = row['due']\n",
    "\n",
    "    try:\n",
    "\n",
    "        df_tasks.at[index,'due_date'] = a.get('date')\n",
    "        df_tasks.at[index,'recurring'] = a.get('is_recurring')\n",
    "    except:\n",
    "        pass\n",
    "        \n",
    "\n",
    "df_tasks['due_date'] = pd.to_datetime(\n",
    "    (pd.to_datetime(df_tasks['due_date'], utc=True)\n",
    "     .dt.tz_convert('US/Eastern')\n",
    "     .dt.strftime(\"%Y-%m-%d %H:%M:%S\")))\n",
    "\n",
    "df_tasks['date_completed'] = pd.to_datetime(\n",
    "    (pd.to_datetime(df_tasks['date_completed'], utc=True)\n",
    "     .dt.tz_convert('US/Eastern')\n",
    "     .dt.strftime(\"%Y-%m-%d %H:%M:%S\")))\n",
    "\n",
    "map_project = dict(df_projects[['id', 'name']].values) \n",
    "df_tasks['project_name'] = df_tasks.project_id.map(map_project)"
   ]
  },
  {
   "cell_type": "markdown",
   "metadata": {},
   "source": [
    "### All activities.\n",
    "\n",
    "This puts all of the activities into a single dataframe.\n",
    "\n",
    "The API has a limit per pull of around 100 tasks, but it is possible to loop through multiple 'pages' of tasks to download the entire set.\n"
   ]
  },
  {
   "cell_type": "code",
   "execution_count": null,
   "metadata": {},
   "outputs": [],
   "source": [
    "# The API limits 100 activities to be retrieved per call, so a loop is needed\n",
    "\n",
    "# Items are retrieved in descending order by date.\n",
    "# offset indicates how many items should be skipped\n",
    "activity_list = []\n",
    "page = 1\n",
    "\n",
    "df_activities = pd.DataFrame()\n",
    "\n",
    "while True:\n",
    "    activities = api.activity.get(limit = 100, page=page)\n",
    "    if not activities['events']:\n",
    "        break\n",
    "    for activity in activities['events']: \n",
    "        activity.update(activity['extra_data'])\n",
    "        del activity['extra_data']\n",
    "        \n",
    "    df_temp = pd.DataFrame.from_dict(activities['events'])\n",
    "    df_activities = df_activities.append(df_temp)\n",
    "    page += 1\n"
   ]
  },
  {
   "cell_type": "code",
   "execution_count": null,
   "metadata": {},
   "outputs": [],
   "source": [
    "\n",
    "df_activity = pd.DataFrame()\n",
    "\n",
    "df_activity = df_activities\n",
    "\n",
    "# Convert Date strings (in UTC by default) to datetime and format it \n",
    "df_activity['due_date'] = pd.to_datetime(\n",
    "    (pd.to_datetime(df_activity['due_date'], utc=True)\n",
    "     .dt.tz_convert('US/Eastern')\n",
    "     .dt.strftime(\"%Y-%m-%d %H:%M:%S\")))\n",
    "\n",
    "df_activity['event_date'] = pd.to_datetime(\n",
    "    (pd.to_datetime(df_activity['event_date'], utc=True)\n",
    "     .dt.tz_convert('US/Eastern')\n",
    "     .dt.strftime(\"%Y-%m-%d %H:%M:%S\")))\n",
    "\n",
    "df_activity['last_due_date'] = pd.to_datetime(\n",
    "    (pd.to_datetime(df_activity['last_due_date'], utc=True)\n",
    "     .dt.tz_convert('US/Eastern')\n",
    "     .dt.strftime(\"%Y-%m-%d %H:%M:%S\")))\n",
    "\n",
    "# Set DataFrame index as the EVENT_DATE (will make it easier to plot later)\n",
    "df_activity = df_activity.set_index('event_date')\n",
    "\n",
    "# Add project name to DataFrame, using the mapper from before\n",
    "df_activity['project_name'] = df_activity.parent_project_id.map(map_project)\n",
    "\n",
    "df_activity.head(10)"
   ]
  },
  {
   "cell_type": "markdown",
   "metadata": {},
   "source": [
    "## Analysis\n",
    "\n",
    "Now everything is in a single dataframe, let's some overall stats."
   ]
  },
  {
   "cell_type": "code",
   "execution_count": null,
   "metadata": {},
   "outputs": [],
   "source": [
    "# Get DAILY AVERAGE of each event type\n",
    "df_daily_event_avgs = (df_activity.groupby([df_activity.index,'event_type']).\n",
    "                 size()\n",
    "                 .unstack()\n",
    "                 .resample('D')\n",
    "                 .sum()\n",
    "                 .mean()\n",
    "                )\n",
    "\n",
    "# Get WEEKLY AVERAGE of each event type\n",
    "df_weekly_event_avgs = (df_activity.groupby([df_activity.index,'event_type']).\n",
    "                 size()\n",
    "                 .unstack()\n",
    "                 .resample('W')\n",
    "                 .sum()\n",
    "                 .mean()\n",
    "                )\n",
    "\n",
    "# Get SUM of each event type\n",
    "df_event_sums = df_activity.groupby('event_type').size()\n",
    "\n",
    "#--------------------------------------------------\n",
    "# Profile info\n",
    "premium = api.state['user']['premium_until']\n",
    "karma = api.state['user']['karma']\n",
    "daily_goal = api.state['user']['daily_goal']\n",
    "weekly_goal = api.state['user']['weekly_goal']\n",
    "\n",
    "# Dates\n",
    "start_date = df_activity.index[-1]\n",
    "duration = str(df_activity.index[0] - df_activity.index[-1])\n",
    "\n",
    "# Averages\n",
    "daily_avg_adds = df_daily_event_avgs['added']\n",
    "daily_avg_completes = df_daily_event_avgs['completed']\n",
    "daily_avg_updates = df_daily_event_avgs['updated']\n",
    "\n",
    "weekly_avg_adds = df_weekly_event_avgs['added']\n",
    "weekly_avg_completes = df_weekly_event_avgs['completed']\n",
    "weekly_avg_updates = df_weekly_event_avgs['updated']\n",
    "\n",
    "# Sums\n",
    "sum_adds = df_event_sums['added']\n",
    "sum_completes = df_event_sums['completed']\n",
    "sum_updates = df_event_sums['updated']\n",
    "sum_deleted = df_event_sums['deleted']         \n",
    "\n",
    "display(HTML('''<h1>My Todoist Stats</h1>\n",
    "<br>\n",
    "\n",
    "Started using at............................: {:%B %d, %Y} <br>\n",
    "Used so far..................................: {}<br>\n",
    "Premium until...............................: {}<br>\n",
    "Karma points................................: {:.0f}<br>\n",
    "\n",
    "\n",
    "\n",
    "Daily tasks goal............................: {}<br>\n",
    "Weekly tasks goal...........................: {}<br>\n",
    "\n",
    "\n",
    "<br>_____________________________________________________<br><br>\n",
    "\n",
    "Total added tasks...........................: {:.0f}<br>\n",
    "Total completed tasks.......................: {:.0f}<br>\n",
    "Total updated (re-scheduled) tasks..........: {:.0f}<br>\n",
    "Total deleted ..............................: {:.0f}<br>\n",
    "<br>_____________________________________________________<br><br>\n",
    "\n",
    "Average tasks added per day.................: {:.1f}<br>\n",
    "Average tasks completed per day.............: {:.1f}<br>\n",
    "Average tasks updated (re-scheduled) per day: {:.1f}<br>\n",
    "Average tasks deleted per day...............: {:.1f}<br>\n",
    "<br>_____________________________________________________<br><br>\n",
    "Average tasks added per week.................: {:.1f}<br>\n",
    "Average tasks completed per week.............: {:.1f}<br>\n",
    "Average tasks updated (re-scheduled) per week: {:.1f}<br>\n",
    "Average tasks deleted per week: {:.1f}<br>\n",
    "<br>           \n",
    "             \n",
    "             '''.format(start_date,duration,premium,karma,daily_goal,weekly_goal,sum_adds,sum_completes,sum_updates,sum_deleted,daily_avg_adds,daily_avg_completes,daily_avg_updates,\n",
    "                      df_daily_event_avgs['deleted'],weekly_avg_adds,weekly_avg_completes,weekly_avg_updates,df_weekly_event_avgs['deleted'])))\n"
   ]
  },
  {
   "cell_type": "markdown",
   "metadata": {},
   "source": [
    "### Daily activity chart\n",
    "\n",
    "The following is a daily activity chart including the daily average and the goal. \n",
    "\n",
    "Change the year or month in line 11 to see different time periods, or remove '.loc' completely to see the entire dataset."
   ]
  },
  {
   "cell_type": "code",
   "execution_count": null,
   "metadata": {},
   "outputs": [],
   "source": [
    "\n",
    "# Create DF of events per day\n",
    "df_event_by_day = (df_activity.groupby([df_activity.index,'event_type'])\n",
    "                   .size()\n",
    "                   .unstack()\n",
    "                   .resample('D')\n",
    "                   .sum())\n",
    "\n",
    "# Plot completed tasks - change year or month under 'loc' e.g. '2019' or '2019-01'\n",
    "daily_activities = (df_event_by_day[['completed']].loc['2021-01']\n",
    "                     .plot(figsize=(15,8),\n",
    "                           lw=3\n",
    "                  ))\n",
    "\n",
    "\n",
    "\n",
    "daily_activities.set_title('Completed tasks over days', fontsize=20)\n",
    "\n",
    "# Add horizontal line with Average completed tasks\n",
    "daily_activities.axhline(daily_avg_completes, linestyle='--', color='g', label='daily average')\n",
    "daily_activities.axhline(daily_goal, linestyle=':', color='y', label='goal')\n",
    "daily_activities.legend(fontsize=12)"
   ]
  },
  {
   "cell_type": "markdown",
   "metadata": {},
   "source": [
    "### Annual activity by day\n",
    "\n",
    "This section creates some 'github'-like charts based on the amount of activity"
   ]
  },
  {
   "cell_type": "code",
   "execution_count": null,
   "metadata": {},
   "outputs": [],
   "source": [
    "fig, ax = plt.subplots(8,1,sharex=True)\n",
    "\n",
    "calmap.yearplot(df_event_by_day['added'],year=2020,cmap='Reds', fillcolor='aqua', ax=ax[0])\n",
    "calmap.yearplot(df_event_by_day['added'],year=2021,cmap='YlGn', ax=ax[1],fillcolor='grey')\n",
    "\n",
    "calmap.yearplot(df_event_by_day['completed'], year=2020, ax=ax[2],fillcolor='grey')\n",
    "calmap.yearplot(df_event_by_day['completed'], year=2021,cmap='YlGn', ax=ax[3],fillcolor='grey')\n",
    "\n",
    "calmap.yearplot(df_event_by_day['updated'],year=2020,cmap='Reds', ax=ax[4])\n",
    "calmap.yearplot(df_event_by_day['updated'],year=2021,cmap='YlGn', ax=ax[5])\n",
    "\n",
    "\n",
    "calmap.yearplot(df_event_by_day['deleted'],year=2020,cmap='Reds', ax=ax[6])\n",
    "calmap.yearplot(df_event_by_day['deleted'],year=2021,cmap='YlGn', ax=ax[7])\n",
    "\n",
    "ax[0].title.set_text('2020 Day Added')\n",
    "ax[1].title.set_text('2021 Day Added')\n",
    "ax[2].title.set_text('2020 Day Completed')\n",
    "ax[3].title.set_text('2021 Day Complated')\n",
    "ax[4].title.set_text('2020 Day Updated')\n",
    "ax[5].title.set_text('2021 Day Updated')\n",
    "ax[6].title.set_text('2020 Day Deleted')\n",
    "ax[7].title.set_text('2021 Day Deleted')\n",
    "\n",
    "fig.set_size_inches(70, 25, forward=True)"
   ]
  },
  {
   "cell_type": "markdown",
   "metadata": {},
   "source": [
    "### Monthly activity by project name"
   ]
  },
  {
   "cell_type": "code",
   "execution_count": null,
   "metadata": {},
   "outputs": [],
   "source": [
    "df = df_activity.loc['2021-01']\n",
    "df = df[df['event_type']=='completed']\n",
    "\n",
    "df_event_by_project_by_day = (df\n",
    "                              .groupby([df.index,'project_name'])\n",
    "                              .size()\n",
    "                              .unstack()\n",
    "                              .resample('D')\n",
    "                              .sum())\n",
    "                            \n",
    "\n",
    "\n",
    "ax = df_event_by_project_by_day.plot.bar(stacked=True,figsize=(20,8))"
   ]
  },
  {
   "cell_type": "markdown",
   "metadata": {},
   "source": [
    "## Total activity by project"
   ]
  },
  {
   "cell_type": "code",
   "execution_count": null,
   "metadata": {},
   "outputs": [],
   "source": [
    "df_event_by_project = df_activity.loc['2020'].groupby(['project_name','event_type']).size().unstack()\n",
    "\n",
    "project_counts = (df_event_by_project[['added','completed','updated']]\n",
    "                     .plot(title='Task activities per project', \n",
    "                           figsize=(12,8), \n",
    "                           kind='barh',\n",
    "                           fontsize=12, \n",
    "                           width=.7)\n",
    "                  )\n",
    "\n",
    "project_counts.set_ylabel('Project Name')\n",
    "project_counts.set_xlabel('Tasks')"
   ]
  },
  {
   "cell_type": "markdown",
   "metadata": {},
   "source": [
    "### Activity type by day of the week"
   ]
  },
  {
   "cell_type": "code",
   "execution_count": null,
   "metadata": {},
   "outputs": [],
   "source": [
    "df_event_by_weekday_2020 = df_activity.loc['2020'].groupby([df_activity.loc['2020'].index.dayofweek,'event_type']).size().unstack()\n",
    "\n",
    "df_event_by_weekday_2021 = df_activity.loc['2021'].groupby([df_activity.loc['2021'].index.dayofweek,'event_type']).size().unstack()\n",
    "\n",
    "\n",
    "\n",
    "weekday_activities_2020 = (df_event_by_weekday_2020[['added','completed','updated']]\n",
    "                     .plot(figsize=(13,8),\n",
    "                           lw=3, \n",
    "                           marker='.', \n",
    "                           markersize=12,\n",
    "                           grid=True\n",
    "                  ))\n",
    "\n",
    "weekday_activities_2020.set_xlabel('Weekday')\n",
    "weekday_activities_2020.set_ylabel('Tasks')\n",
    "weekday_activities_2020.set_xticklabels(\n",
    "    [0,'Sun','Mon','Tue','Wed','Thu','Fri','Sat']) # 0 is a workaround\n",
    "\n",
    "weekday_activities_2020.legend(fontsize=12)\n",
    "weekday_activities_2020.set_title('Activities vs Day of Week 2020', fontsize=20)\n",
    "\n",
    "weekday_activities = (df_event_by_weekday_2021[['added','completed','updated']]\n",
    "                     .plot(figsize=(13,8),\n",
    "                           lw=3, \n",
    "                           marker='.', \n",
    "                           markersize=12,\n",
    "                           grid=True\n",
    "                  ))\n",
    "\n",
    "weekday_activities.set_xlabel('Weekday')\n",
    "weekday_activities.set_ylabel('Tasks')\n",
    "weekday_activities.set_xticklabels(\n",
    "    [0,'Sun','Mon','Tue','Wed','Thu','Fri','Sat']) # 0 is a workaround\n",
    "\n",
    "weekday_activities.legend(fontsize=12)\n",
    "weekday_activities.set_title('Activities vs Day of Week 2021', fontsize=20)"
   ]
  },
  {
   "cell_type": "markdown",
   "metadata": {},
   "source": [
    "### Project activity by day of the week \n",
    "\n",
    "Add additional project names in line 8"
   ]
  },
  {
   "cell_type": "code",
   "execution_count": null,
   "metadata": {},
   "outputs": [],
   "source": [
    "'''\n",
    "Day when added\n",
    "\n",
    "'''\n",
    "\n",
    "df_event_by_weekday = df_activity.groupby([df_activity.index.dayofweek,'project_name']).size().unstack()\n",
    "\n",
    "weekday_activities = (df_event_by_weekday[['Personal','Work','Inbox']]\n",
    "                     .plot(figsize=(13,8),\n",
    "                           lw=3, \n",
    "                           marker='.', \n",
    "                           markersize=12,\n",
    "                           grid=True\n",
    "                  ))\n",
    "\n",
    "weekday_activities.set_xlabel('Weekday')\n",
    "weekday_activities.set_ylabel('Tasks')\n",
    "weekday_activities.set_xticklabels(\n",
    "    [0,'Sun','Mon','Tue','Wed','Thu','Fri','Sat']) # 0 is a workaround\n",
    "\n",
    "weekday_activities.legend(fontsize=12)\n",
    "weekday_activities.set_title('Activities vs Day of Week', fontsize=20)"
   ]
  },
  {
   "cell_type": "markdown",
   "metadata": {},
   "source": [
    "### Daily Tasks\n",
    "\n",
    "Adjust the time period in line 1 - change loc to '2020' or '2020-01'"
   ]
  },
  {
   "cell_type": "code",
   "execution_count": null,
   "metadata": {},
   "outputs": [],
   "source": [
    "df_dailies = df_activity.loc['2021']\n",
    "df_dailies = df_dailies[df_dailies['event_type']=='completed']\n",
    "df_dailies = df_dailies[(df_dailies['content']=='task1') ## add the name of your daily tasks here.\n",
    "                        | (df_dailies['content']=='task2')  \n",
    "                        | (df_dailies['content']=='task3')]\n",
    "\n",
    "df_event_by_project_by_day = (df_dailies\n",
    "                              .groupby([df_dailies.index,'content'])\n",
    "                              .size()\n",
    "                              .unstack()\n",
    "                              .resample('D')\n",
    "                              .sum())\n",
    "                            \n",
    "\n",
    "\n",
    "ax = df_event_by_project_by_day.plot.bar(stacked=True,figsize=(20,8))\n"
   ]
  },
  {
   "cell_type": "code",
   "execution_count": null,
   "metadata": {},
   "outputs": [],
   "source": []
  }
 ],
 "metadata": {
  "kernelspec": {
   "display_name": "Python 3",
   "language": "python",
   "name": "python3"
  },
  "language_info": {
   "codemirror_mode": {
    "name": "ipython",
    "version": 3
   },
   "file_extension": ".py",
   "mimetype": "text/x-python",
   "name": "python",
   "nbconvert_exporter": "python",
   "pygments_lexer": "ipython3",
   "version": "3.7.1"
  }
 },
 "nbformat": 4,
 "nbformat_minor": 2
}
